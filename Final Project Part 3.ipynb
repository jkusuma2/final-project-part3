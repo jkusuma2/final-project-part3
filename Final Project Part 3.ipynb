{
 "cells": [
  {
   "cell_type": "markdown",
   "id": "acaca582",
   "metadata": {},
   "source": [
    "# Chicago Car Crashes Trends and Patterns"
   ]
  },
  {
   "cell_type": "markdown",
   "id": "eedafb78",
   "metadata": {},
   "source": [
    "## Final Project Part 3"
   ]
  },
  {
   "cell_type": "markdown",
   "id": "f7405042",
   "metadata": {},
   "source": [
    "Author: Jonathan Farrell Kusuma"
   ]
  },
  {
   "cell_type": "code",
   "execution_count": 1,
   "id": "91a7bd40",
   "metadata": {},
   "outputs": [],
   "source": [
    "import pandas as pd\n",
    "import matplotlib\n",
    "import matplotlib.pyplot as plt\n",
    "import ipywidgets\n",
    "import numpy as np\n",
    "from collections import Counter "
   ]
  },
  {
   "cell_type": "markdown",
   "id": "c7ed25ac",
   "metadata": {},
   "source": [
    "For the third part of my final project, I will be using ipywidgets to bring interactivity to my visualizations. In this jupyter notebook, I created five visualizations, an interactive histogram and a dashboard with two plots of color mapped location points and a bubble plot using matplotlib's scatter along with three other contextual visualization. Using the data from the previous part, (https://data.cityofchicago.org/Transportation/Traffic-Crashes-Crashes/85ca-t3if), I used the pandas and numpy library to create the visualizations.\n",
    "\n",
    "Below shows a summary of the data:"
   ]
  },
  {
   "cell_type": "code",
   "execution_count": 2,
   "id": "3dcf5566",
   "metadata": {},
   "outputs": [],
   "source": [
    "crash = pd.read_csv('https://data.cityofchicago.org/api/views/85ca-t3if/rows.csv?accessType=DOWNLOAD')"
   ]
  },
  {
   "cell_type": "code",
   "execution_count": 3,
   "id": "45ec8749",
   "metadata": {},
   "outputs": [
    {
     "data": {
      "text/html": [
       "<div>\n",
       "<style scoped>\n",
       "    .dataframe tbody tr th:only-of-type {\n",
       "        vertical-align: middle;\n",
       "    }\n",
       "\n",
       "    .dataframe tbody tr th {\n",
       "        vertical-align: top;\n",
       "    }\n",
       "\n",
       "    .dataframe thead th {\n",
       "        text-align: right;\n",
       "    }\n",
       "</style>\n",
       "<table border=\"1\" class=\"dataframe\">\n",
       "  <thead>\n",
       "    <tr style=\"text-align: right;\">\n",
       "      <th></th>\n",
       "      <th>CRASH_RECORD_ID</th>\n",
       "      <th>RD_NO</th>\n",
       "      <th>CRASH_DATE_EST_I</th>\n",
       "      <th>CRASH_DATE</th>\n",
       "      <th>POSTED_SPEED_LIMIT</th>\n",
       "      <th>TRAFFIC_CONTROL_DEVICE</th>\n",
       "      <th>DEVICE_CONDITION</th>\n",
       "      <th>WEATHER_CONDITION</th>\n",
       "      <th>LIGHTING_CONDITION</th>\n",
       "      <th>FIRST_CRASH_TYPE</th>\n",
       "      <th>...</th>\n",
       "      <th>INJURIES_NON_INCAPACITATING</th>\n",
       "      <th>INJURIES_REPORTED_NOT_EVIDENT</th>\n",
       "      <th>INJURIES_NO_INDICATION</th>\n",
       "      <th>INJURIES_UNKNOWN</th>\n",
       "      <th>CRASH_HOUR</th>\n",
       "      <th>CRASH_DAY_OF_WEEK</th>\n",
       "      <th>CRASH_MONTH</th>\n",
       "      <th>LATITUDE</th>\n",
       "      <th>LONGITUDE</th>\n",
       "      <th>LOCATION</th>\n",
       "    </tr>\n",
       "  </thead>\n",
       "  <tbody>\n",
       "    <tr>\n",
       "      <th>0</th>\n",
       "      <td>4fd0a3e0897b3335b94cd8d5b2d2b350eb691add56c62d...</td>\n",
       "      <td>JC343143</td>\n",
       "      <td>NaN</td>\n",
       "      <td>07/10/2019 05:56:00 PM</td>\n",
       "      <td>35</td>\n",
       "      <td>NO CONTROLS</td>\n",
       "      <td>NO CONTROLS</td>\n",
       "      <td>CLEAR</td>\n",
       "      <td>DAYLIGHT</td>\n",
       "      <td>TURNING</td>\n",
       "      <td>...</td>\n",
       "      <td>0.0</td>\n",
       "      <td>0.0</td>\n",
       "      <td>3.0</td>\n",
       "      <td>0.0</td>\n",
       "      <td>17</td>\n",
       "      <td>4</td>\n",
       "      <td>7</td>\n",
       "      <td>41.919664</td>\n",
       "      <td>-87.773288</td>\n",
       "      <td>POINT (-87.773287883007 41.919663832993)</td>\n",
       "    </tr>\n",
       "    <tr>\n",
       "      <th>1</th>\n",
       "      <td>009e9e67203442370272e1a13d6ee51a4155dac65e583d...</td>\n",
       "      <td>JA329216</td>\n",
       "      <td>NaN</td>\n",
       "      <td>06/30/2017 04:00:00 PM</td>\n",
       "      <td>35</td>\n",
       "      <td>STOP SIGN/FLASHER</td>\n",
       "      <td>FUNCTIONING PROPERLY</td>\n",
       "      <td>CLEAR</td>\n",
       "      <td>DAYLIGHT</td>\n",
       "      <td>TURNING</td>\n",
       "      <td>...</td>\n",
       "      <td>0.0</td>\n",
       "      <td>0.0</td>\n",
       "      <td>3.0</td>\n",
       "      <td>0.0</td>\n",
       "      <td>16</td>\n",
       "      <td>6</td>\n",
       "      <td>6</td>\n",
       "      <td>41.741804</td>\n",
       "      <td>-87.740954</td>\n",
       "      <td>POINT (-87.740953581987 41.741803598989)</td>\n",
       "    </tr>\n",
       "    <tr>\n",
       "      <th>2</th>\n",
       "      <td>ee9283eff3a55ac50ee58f3d9528ce1d689b1c4180b4c4...</td>\n",
       "      <td>JD292400</td>\n",
       "      <td>NaN</td>\n",
       "      <td>07/10/2020 10:25:00 AM</td>\n",
       "      <td>30</td>\n",
       "      <td>TRAFFIC SIGNAL</td>\n",
       "      <td>FUNCTIONING PROPERLY</td>\n",
       "      <td>CLEAR</td>\n",
       "      <td>DAYLIGHT</td>\n",
       "      <td>REAR END</td>\n",
       "      <td>...</td>\n",
       "      <td>0.0</td>\n",
       "      <td>0.0</td>\n",
       "      <td>3.0</td>\n",
       "      <td>0.0</td>\n",
       "      <td>10</td>\n",
       "      <td>6</td>\n",
       "      <td>7</td>\n",
       "      <td>41.773456</td>\n",
       "      <td>-87.585022</td>\n",
       "      <td>POINT (-87.585022352022 41.773455972008)</td>\n",
       "    </tr>\n",
       "    <tr>\n",
       "      <th>3</th>\n",
       "      <td>f8960f698e870ebdc60b521b2a141a5395556bc3704191...</td>\n",
       "      <td>JD293602</td>\n",
       "      <td>NaN</td>\n",
       "      <td>07/11/2020 01:00:00 AM</td>\n",
       "      <td>30</td>\n",
       "      <td>NO CONTROLS</td>\n",
       "      <td>NO CONTROLS</td>\n",
       "      <td>CLEAR</td>\n",
       "      <td>DARKNESS</td>\n",
       "      <td>PARKED MOTOR VEHICLE</td>\n",
       "      <td>...</td>\n",
       "      <td>0.0</td>\n",
       "      <td>0.0</td>\n",
       "      <td>3.0</td>\n",
       "      <td>0.0</td>\n",
       "      <td>1</td>\n",
       "      <td>7</td>\n",
       "      <td>7</td>\n",
       "      <td>41.802119</td>\n",
       "      <td>-87.622115</td>\n",
       "      <td>POINT (-87.622114914961 41.802118543011)</td>\n",
       "    </tr>\n",
       "    <tr>\n",
       "      <th>4</th>\n",
       "      <td>8eaa2678d1a127804ee9b8c35ddf7d63d913c14eda61d6...</td>\n",
       "      <td>JD290451</td>\n",
       "      <td>NaN</td>\n",
       "      <td>07/08/2020 02:00:00 PM</td>\n",
       "      <td>20</td>\n",
       "      <td>NO CONTROLS</td>\n",
       "      <td>NO CONTROLS</td>\n",
       "      <td>CLEAR</td>\n",
       "      <td>DAYLIGHT</td>\n",
       "      <td>PARKED MOTOR VEHICLE</td>\n",
       "      <td>...</td>\n",
       "      <td>0.0</td>\n",
       "      <td>0.0</td>\n",
       "      <td>1.0</td>\n",
       "      <td>0.0</td>\n",
       "      <td>14</td>\n",
       "      <td>4</td>\n",
       "      <td>7</td>\n",
       "      <td>NaN</td>\n",
       "      <td>NaN</td>\n",
       "      <td>NaN</td>\n",
       "    </tr>\n",
       "    <tr>\n",
       "      <th>...</th>\n",
       "      <td>...</td>\n",
       "      <td>...</td>\n",
       "      <td>...</td>\n",
       "      <td>...</td>\n",
       "      <td>...</td>\n",
       "      <td>...</td>\n",
       "      <td>...</td>\n",
       "      <td>...</td>\n",
       "      <td>...</td>\n",
       "      <td>...</td>\n",
       "      <td>...</td>\n",
       "      <td>...</td>\n",
       "      <td>...</td>\n",
       "      <td>...</td>\n",
       "      <td>...</td>\n",
       "      <td>...</td>\n",
       "      <td>...</td>\n",
       "      <td>...</td>\n",
       "      <td>...</td>\n",
       "      <td>...</td>\n",
       "      <td>...</td>\n",
       "    </tr>\n",
       "    <tr>\n",
       "      <th>568100</th>\n",
       "      <td>9a9db62f3334a1fad706f97c5a4ebb8485668447c176e2...</td>\n",
       "      <td>JE299347</td>\n",
       "      <td>NaN</td>\n",
       "      <td>07/12/2021 06:37:00 PM</td>\n",
       "      <td>10</td>\n",
       "      <td>NO CONTROLS</td>\n",
       "      <td>NO CONTROLS</td>\n",
       "      <td>CLEAR</td>\n",
       "      <td>DAYLIGHT</td>\n",
       "      <td>PARKED MOTOR VEHICLE</td>\n",
       "      <td>...</td>\n",
       "      <td>0.0</td>\n",
       "      <td>0.0</td>\n",
       "      <td>1.0</td>\n",
       "      <td>0.0</td>\n",
       "      <td>18</td>\n",
       "      <td>2</td>\n",
       "      <td>7</td>\n",
       "      <td>41.736965</td>\n",
       "      <td>-87.721652</td>\n",
       "      <td>POINT (-87.721652118145 41.736965321289)</td>\n",
       "    </tr>\n",
       "    <tr>\n",
       "      <th>568101</th>\n",
       "      <td>db31327d28803316b8f44f0ec86d6e76a248934f3d1bfc...</td>\n",
       "      <td>JE295652</td>\n",
       "      <td>NaN</td>\n",
       "      <td>07/07/2021 09:25:00 PM</td>\n",
       "      <td>30</td>\n",
       "      <td>TRAFFIC SIGNAL</td>\n",
       "      <td>FUNCTIONING PROPERLY</td>\n",
       "      <td>UNKNOWN</td>\n",
       "      <td>UNKNOWN</td>\n",
       "      <td>SIDESWIPE SAME DIRECTION</td>\n",
       "      <td>...</td>\n",
       "      <td>0.0</td>\n",
       "      <td>0.0</td>\n",
       "      <td>2.0</td>\n",
       "      <td>0.0</td>\n",
       "      <td>21</td>\n",
       "      <td>4</td>\n",
       "      <td>7</td>\n",
       "      <td>41.747538</td>\n",
       "      <td>-87.604986</td>\n",
       "      <td>POINT (-87.604985730802 41.747538448447)</td>\n",
       "    </tr>\n",
       "    <tr>\n",
       "      <th>568102</th>\n",
       "      <td>d51aae396db49981c7ee26ceb54dfcab3c4b06d0cc5d7d...</td>\n",
       "      <td>JE298826</td>\n",
       "      <td>NaN</td>\n",
       "      <td>07/12/2021 10:00:00 AM</td>\n",
       "      <td>30</td>\n",
       "      <td>NO CONTROLS</td>\n",
       "      <td>NO CONTROLS</td>\n",
       "      <td>CLEAR</td>\n",
       "      <td>DAYLIGHT</td>\n",
       "      <td>REAR TO SIDE</td>\n",
       "      <td>...</td>\n",
       "      <td>0.0</td>\n",
       "      <td>1.0</td>\n",
       "      <td>1.0</td>\n",
       "      <td>0.0</td>\n",
       "      <td>10</td>\n",
       "      <td>2</td>\n",
       "      <td>7</td>\n",
       "      <td>41.752918</td>\n",
       "      <td>-87.621573</td>\n",
       "      <td>POINT (-87.621572939578 41.752917594949)</td>\n",
       "    </tr>\n",
       "    <tr>\n",
       "      <th>568103</th>\n",
       "      <td>6f9abc7e7f54095cef0fa17e16e6f72eb14f8d17d3b572...</td>\n",
       "      <td>JE300245</td>\n",
       "      <td>NaN</td>\n",
       "      <td>07/13/2021 04:15:00 PM</td>\n",
       "      <td>15</td>\n",
       "      <td>NO CONTROLS</td>\n",
       "      <td>NO CONTROLS</td>\n",
       "      <td>CLEAR</td>\n",
       "      <td>DAYLIGHT</td>\n",
       "      <td>PARKED MOTOR VEHICLE</td>\n",
       "      <td>...</td>\n",
       "      <td>0.0</td>\n",
       "      <td>0.0</td>\n",
       "      <td>1.0</td>\n",
       "      <td>0.0</td>\n",
       "      <td>16</td>\n",
       "      <td>3</td>\n",
       "      <td>7</td>\n",
       "      <td>41.781830</td>\n",
       "      <td>-87.668979</td>\n",
       "      <td>POINT (-87.668979124866 41.781829602685)</td>\n",
       "    </tr>\n",
       "    <tr>\n",
       "      <th>568104</th>\n",
       "      <td>bc361965fe506c50f7899493c79b1f7d011376f753acaa...</td>\n",
       "      <td>JE300060</td>\n",
       "      <td>NaN</td>\n",
       "      <td>07/13/2021 11:30:00 AM</td>\n",
       "      <td>30</td>\n",
       "      <td>NO CONTROLS</td>\n",
       "      <td>NO CONTROLS</td>\n",
       "      <td>CLEAR</td>\n",
       "      <td>DAYLIGHT</td>\n",
       "      <td>SIDESWIPE SAME DIRECTION</td>\n",
       "      <td>...</td>\n",
       "      <td>0.0</td>\n",
       "      <td>0.0</td>\n",
       "      <td>2.0</td>\n",
       "      <td>0.0</td>\n",
       "      <td>11</td>\n",
       "      <td>3</td>\n",
       "      <td>7</td>\n",
       "      <td>41.997303</td>\n",
       "      <td>-87.780162</td>\n",
       "      <td>POINT (-87.780162317876 41.997302747477)</td>\n",
       "    </tr>\n",
       "  </tbody>\n",
       "</table>\n",
       "<p>568105 rows × 49 columns</p>\n",
       "</div>"
      ],
      "text/plain": [
       "                                          CRASH_RECORD_ID     RD_NO  \\\n",
       "0       4fd0a3e0897b3335b94cd8d5b2d2b350eb691add56c62d...  JC343143   \n",
       "1       009e9e67203442370272e1a13d6ee51a4155dac65e583d...  JA329216   \n",
       "2       ee9283eff3a55ac50ee58f3d9528ce1d689b1c4180b4c4...  JD292400   \n",
       "3       f8960f698e870ebdc60b521b2a141a5395556bc3704191...  JD293602   \n",
       "4       8eaa2678d1a127804ee9b8c35ddf7d63d913c14eda61d6...  JD290451   \n",
       "...                                                   ...       ...   \n",
       "568100  9a9db62f3334a1fad706f97c5a4ebb8485668447c176e2...  JE299347   \n",
       "568101  db31327d28803316b8f44f0ec86d6e76a248934f3d1bfc...  JE295652   \n",
       "568102  d51aae396db49981c7ee26ceb54dfcab3c4b06d0cc5d7d...  JE298826   \n",
       "568103  6f9abc7e7f54095cef0fa17e16e6f72eb14f8d17d3b572...  JE300245   \n",
       "568104  bc361965fe506c50f7899493c79b1f7d011376f753acaa...  JE300060   \n",
       "\n",
       "       CRASH_DATE_EST_I              CRASH_DATE  POSTED_SPEED_LIMIT  \\\n",
       "0                   NaN  07/10/2019 05:56:00 PM                  35   \n",
       "1                   NaN  06/30/2017 04:00:00 PM                  35   \n",
       "2                   NaN  07/10/2020 10:25:00 AM                  30   \n",
       "3                   NaN  07/11/2020 01:00:00 AM                  30   \n",
       "4                   NaN  07/08/2020 02:00:00 PM                  20   \n",
       "...                 ...                     ...                 ...   \n",
       "568100              NaN  07/12/2021 06:37:00 PM                  10   \n",
       "568101              NaN  07/07/2021 09:25:00 PM                  30   \n",
       "568102              NaN  07/12/2021 10:00:00 AM                  30   \n",
       "568103              NaN  07/13/2021 04:15:00 PM                  15   \n",
       "568104              NaN  07/13/2021 11:30:00 AM                  30   \n",
       "\n",
       "       TRAFFIC_CONTROL_DEVICE      DEVICE_CONDITION WEATHER_CONDITION  \\\n",
       "0                 NO CONTROLS           NO CONTROLS             CLEAR   \n",
       "1           STOP SIGN/FLASHER  FUNCTIONING PROPERLY             CLEAR   \n",
       "2              TRAFFIC SIGNAL  FUNCTIONING PROPERLY             CLEAR   \n",
       "3                 NO CONTROLS           NO CONTROLS             CLEAR   \n",
       "4                 NO CONTROLS           NO CONTROLS             CLEAR   \n",
       "...                       ...                   ...               ...   \n",
       "568100            NO CONTROLS           NO CONTROLS             CLEAR   \n",
       "568101         TRAFFIC SIGNAL  FUNCTIONING PROPERLY           UNKNOWN   \n",
       "568102            NO CONTROLS           NO CONTROLS             CLEAR   \n",
       "568103            NO CONTROLS           NO CONTROLS             CLEAR   \n",
       "568104            NO CONTROLS           NO CONTROLS             CLEAR   \n",
       "\n",
       "       LIGHTING_CONDITION          FIRST_CRASH_TYPE  ...  \\\n",
       "0                DAYLIGHT                   TURNING  ...   \n",
       "1                DAYLIGHT                   TURNING  ...   \n",
       "2                DAYLIGHT                  REAR END  ...   \n",
       "3                DARKNESS      PARKED MOTOR VEHICLE  ...   \n",
       "4                DAYLIGHT      PARKED MOTOR VEHICLE  ...   \n",
       "...                   ...                       ...  ...   \n",
       "568100           DAYLIGHT      PARKED MOTOR VEHICLE  ...   \n",
       "568101            UNKNOWN  SIDESWIPE SAME DIRECTION  ...   \n",
       "568102           DAYLIGHT              REAR TO SIDE  ...   \n",
       "568103           DAYLIGHT      PARKED MOTOR VEHICLE  ...   \n",
       "568104           DAYLIGHT  SIDESWIPE SAME DIRECTION  ...   \n",
       "\n",
       "       INJURIES_NON_INCAPACITATING  INJURIES_REPORTED_NOT_EVIDENT  \\\n",
       "0                              0.0                            0.0   \n",
       "1                              0.0                            0.0   \n",
       "2                              0.0                            0.0   \n",
       "3                              0.0                            0.0   \n",
       "4                              0.0                            0.0   \n",
       "...                            ...                            ...   \n",
       "568100                         0.0                            0.0   \n",
       "568101                         0.0                            0.0   \n",
       "568102                         0.0                            1.0   \n",
       "568103                         0.0                            0.0   \n",
       "568104                         0.0                            0.0   \n",
       "\n",
       "       INJURIES_NO_INDICATION INJURIES_UNKNOWN CRASH_HOUR CRASH_DAY_OF_WEEK  \\\n",
       "0                         3.0              0.0         17                 4   \n",
       "1                         3.0              0.0         16                 6   \n",
       "2                         3.0              0.0         10                 6   \n",
       "3                         3.0              0.0          1                 7   \n",
       "4                         1.0              0.0         14                 4   \n",
       "...                       ...              ...        ...               ...   \n",
       "568100                    1.0              0.0         18                 2   \n",
       "568101                    2.0              0.0         21                 4   \n",
       "568102                    1.0              0.0         10                 2   \n",
       "568103                    1.0              0.0         16                 3   \n",
       "568104                    2.0              0.0         11                 3   \n",
       "\n",
       "       CRASH_MONTH   LATITUDE  LONGITUDE  \\\n",
       "0                7  41.919664 -87.773288   \n",
       "1                6  41.741804 -87.740954   \n",
       "2                7  41.773456 -87.585022   \n",
       "3                7  41.802119 -87.622115   \n",
       "4                7        NaN        NaN   \n",
       "...            ...        ...        ...   \n",
       "568100           7  41.736965 -87.721652   \n",
       "568101           7  41.747538 -87.604986   \n",
       "568102           7  41.752918 -87.621573   \n",
       "568103           7  41.781830 -87.668979   \n",
       "568104           7  41.997303 -87.780162   \n",
       "\n",
       "                                        LOCATION  \n",
       "0       POINT (-87.773287883007 41.919663832993)  \n",
       "1       POINT (-87.740953581987 41.741803598989)  \n",
       "2       POINT (-87.585022352022 41.773455972008)  \n",
       "3       POINT (-87.622114914961 41.802118543011)  \n",
       "4                                            NaN  \n",
       "...                                          ...  \n",
       "568100  POINT (-87.721652118145 41.736965321289)  \n",
       "568101  POINT (-87.604985730802 41.747538448447)  \n",
       "568102  POINT (-87.621572939578 41.752917594949)  \n",
       "568103  POINT (-87.668979124866 41.781829602685)  \n",
       "568104  POINT (-87.780162317876 41.997302747477)  \n",
       "\n",
       "[568105 rows x 49 columns]"
      ]
     },
     "execution_count": 3,
     "metadata": {},
     "output_type": "execute_result"
    }
   ],
   "source": [
    "crash"
   ]
  },
  {
   "cell_type": "markdown",
   "id": "39731f1d",
   "metadata": {},
   "source": [
    "### Contextual visualizations"
   ]
  },
  {
   "cell_type": "markdown",
   "id": "3d2079cf",
   "metadata": {},
   "source": [
    "Below uses matplotlib to plot the count of car crashes in different weather scenarios.Using a bar graph, this visualization shows a clear trend in car crashes in clear weather."
   ]
  },
  {
   "cell_type": "code",
   "execution_count": 5,
   "id": "6dd1ec77",
   "metadata": {},
   "outputs": [
    {
     "data": {
      "text/plain": [
       "<matplotlib.axes._subplots.AxesSubplot at 0x189db704508>"
      ]
     },
     "execution_count": 5,
     "metadata": {},
     "output_type": "execute_result"
    },
    {
     "data": {
      "image/png": "[encoded data removed]",
      "text/plain": [
       "<Figure size 576x432 with 1 Axes>"
      ]
     },
     "metadata": {
      "needs_background": "light"
     },
     "output_type": "display_data"
    }
   ],
   "source": [
    "crash['WEATHER_CONDITION'].value_counts().plot(ylabel = 'Count of Crashes', xlabel = 'Weather', kind='bar', figsize=(8,6))"
   ]
  },
  {
   "cell_type": "markdown",
   "id": "b4441ad8",
   "metadata": {},
   "source": [
    "Below uses matplotlib to plot the count of car crashes in different road lighting conditions.Using a bar graph, this visualization shows a clear trend in car crashes in daylight."
   ]
  },
  {
   "cell_type": "code",
   "execution_count": 6,
   "id": "e705fbb8",
   "metadata": {},
   "outputs": [
    {
     "data": {
      "text/plain": [
       "<matplotlib.axes._subplots.AxesSubplot at 0x189b6758ec8>"
      ]
     },
     "execution_count": 6,
     "metadata": {},
     "output_type": "execute_result"
    },
    {
     "data": {
      "image/png": "[encoded data removed]",
      "text/plain": [
       "<Figure size 576x432 with 1 Axes>"
      ]
     },
     "metadata": {
      "needs_background": "light"
     },
     "output_type": "display_data"
    }
   ],
   "source": [
    "crash['LIGHTING_CONDITION'].value_counts().plot(ylabel = 'Count of Crashes', xlabel = 'Lighting Conditions', kind='bar', figsize=(8,6))"
   ]
  },
  {
   "cell_type": "markdown",
   "id": "85b81965",
   "metadata": {},
   "source": [
    "Below uses matplotlib to plot the count of car crashes in different road posted speed limitss.Using a bar graph, this visualization shows a clear trend in car crashes in 30mph speed limited roads."
   ]
  },
  {
   "cell_type": "code",
   "execution_count": 7,
   "id": "3fa80e2a",
   "metadata": {},
   "outputs": [
    {
     "data": {
      "text/plain": [
       "<matplotlib.axes._subplots.AxesSubplot at 0x189b67d50c8>"
      ]
     },
     "execution_count": 7,
     "metadata": {},
     "output_type": "execute_result"
    },
    {
     "data": {
      "image/png": "[encoded data removed]",
      "text/plain": [
       "<Figure size 576x432 with 1 Axes>"
      ]
     },
     "metadata": {
      "needs_background": "light"
     },
     "output_type": "display_data"
    }
   ],
   "source": [
    "crash['POSTED_SPEED_LIMIT'].value_counts().plot(ylabel = 'Count of Crashes', xlabel = 'Posted Speed Limit', kind='bar', figsize=(8,6))"
   ]
  },
  {
   "cell_type": "markdown",
   "id": "d1d0af43",
   "metadata": {},
   "source": [
    "### Interactive visualizations"
   ]
  },
  {
   "cell_type": "code",
   "execution_count": 8,
   "id": "99e2721c",
   "metadata": {},
   "outputs": [],
   "source": [
    "column = ['CRASH_HOUR', \"CRASH_MONTH\", 'INJURIES_TOTAL', 'INJURIES_FATAL', 'INJURIES_INCAPACITATING']\n",
    "group_by = [\"none\", \"LIGHTING_CONDITION\", 'WEATHER_CONDITION', 'FIRST_CRASH_TYPE', 'POSTED_SPEED_LIMIT']"
   ]
  },
  {
   "cell_type": "markdown",
   "id": "a02174ec",
   "metadata": {},
   "source": [
    "To use the visualization below, select one of the possible columns to create a different histogram. It is also possible to group these visualization by different factors such as lighting, weather conditions, first crash types and posted speed limit. Selecting a group by column will plot several histograms from unique values in the selected group by column. Using an if/else statement, I was also able to let users not choose a group by column by choosing \"none\" as the group by column."
   ]
  },
  {
   "cell_type": "code",
   "execution_count": 9,
   "id": "f28cf88e",
   "metadata": {
    "scrolled": false
   },
   "outputs": [
    {
     "data": {
      "application/vnd.jupyter.widget-view+json": {
       "model_id": "b632bdb1e42f40bd9d152828b283ed78",
       "version_major": 2,
       "version_minor": 0
      },
      "text/plain": [
       "interactive(children=(Dropdown(description='column', options=('CRASH_HOUR', 'CRASH_MONTH', 'INJURIES_TOTAL', '…"
      ]
     },
     "metadata": {},
     "output_type": "display_data"
    }
   ],
   "source": [
    "@ipywidgets.interact(column = column, group_by = group_by)\n",
    "def make_plot_hist(column, group_by):\n",
    "    \n",
    "    fig, ax = plt.subplots(figsize=(12,12))\n",
    "    \n",
    "    if group_by == \"none\":\n",
    "        crash.hist(column = column, ax = ax)\n",
    "    else:\n",
    "        crash.hist(column = column, by = group_by, ax = ax)\n",
    "    plt.show()"
   ]
  },
  {
   "cell_type": "code",
   "execution_count": 10,
   "id": "04ffd058",
   "metadata": {},
   "outputs": [],
   "source": [
    "xfields = [\"POSTED_SPEED_LIMIT\", \"WEATHER_CONDITION\", \"LIGHTING_CONDITION\", \"TRAFFICWAY_TYPE\"]\n",
    "yfields = ['INJURIES_TOTAL', 'INJURIES_FATAL', 'CRASH_HOUR']\n",
    "colorfields = [\"none\", 'INJURIES_TOTAL', 'NUM_UNITS', 'POSTED_SPEED_LIMIT']"
   ]
  },
  {
   "cell_type": "code",
   "execution_count": 11,
   "id": "f7ed6d57",
   "metadata": {},
   "outputs": [],
   "source": [
    "crash_nona = crash.dropna(subset=['LATITUDE', 'LONGITUDE'])\n",
    "crash_nona = crash_nona[(crash_nona['LATITUDE'] != 0) & (crash_nona['LONGITUDE'] != 0)]"
   ]
  },
  {
   "cell_type": "code",
   "execution_count": 12,
   "id": "3a3ffc53",
   "metadata": {},
   "outputs": [],
   "source": [
    "unique_street = crash.STREET_NAME.unique()"
   ]
  },
  {
   "cell_type": "markdown",
   "id": "001a53c3",
   "metadata": {},
   "source": [
    "The second visualization below uses a scatterplot to show correlation and trends and a plot for all the accidents locations using the longitude and latitude data from the dataset. Select an x field and y field to change the visualization. It is also possible to use a color field to change the color of these points based on the data from this dataset such as by the number of total injuries, number of cars involved in the accident and posted speed limit. Selecting \"none\" will allow the user to not pick a color field for the location plot. \n",
    "\n",
    "This visualization also allows users to filter by street name and will automatically filter out points that are not equal to the streeet name in both the location points and the user selected x and y fields. This will allow users to visualize the street and locations of where these accidents happen. In addition, I also implemented a checkbox for users to decide whether or not they want to filter by street."
   ]
  },
  {
   "cell_type": "code",
   "execution_count": 13,
   "id": "7afcc3be",
   "metadata": {
    "scrolled": false
   },
   "outputs": [
    {
     "data": {
      "application/vnd.jupyter.widget-view+json": {
       "model_id": "9cf69759df0d48808031e7acd548bbb4",
       "version_major": 2,
       "version_minor": 0
      },
      "text/plain": [
       "interactive(children=(Dropdown(description='xfield', options=('POSTED_SPEED_LIMIT', 'WEATHER_CONDITION', 'LIGH…"
      ]
     },
     "metadata": {},
     "output_type": "display_data"
    }
   ],
   "source": [
    "@ipywidgets.interact(xfield = xfields, yfield = yfields, colorfield = colorfields, street = ipywidgets.Checkbox(False, description='Filter Street'), streetname = unique_street)\n",
    "\n",
    "def make_plot(xfield, yfield, colorfield, street, streetname):\n",
    "    fig, (ax1, ax2) = plt.subplots(2, 1, figsize=(15,15))\n",
    "    plt.xlabel(xfield)\n",
    "    plt.xticks(rotation = 90)\n",
    "    plt.ylabel(yfield)\n",
    "    plt.yticks(rotation = 90)\n",
    "    crash_data = crash_nona\n",
    "    if street:\n",
    "        crash_data = crash_data[crash_data.STREET_NAME == streetname] \n",
    "    freq = crash_data.groupby([xfield, yfield], as_index=False).size()\n",
    "    if colorfield == \"none\":\n",
    "        ax1.scatter(crash_data[\"LONGITUDE\"], crash_data[\"LATITUDE\"], alpha=0.3)\n",
    "    else:\n",
    "        ax1.scatter(crash_data[\"LONGITUDE\"], crash_data[\"LATITUDE\"], c=np.log10(crash_data[colorfield]), cmap = 'rainbow')\n",
    "    ax2.scatter(freq[xfield], freq[yfield],s = freq[\"size\"] * 0.05 + 20, alpha=0.8)\n",
    "    plt.show()"
   ]
  },
  {
   "cell_type": "code",
   "execution_count": null,
   "id": "c79f2f7b",
   "metadata": {},
   "outputs": [],
   "source": []
  },
  {
   "cell_type": "code",
   "execution_count": null,
   "id": "a66e252a",
   "metadata": {},
   "outputs": [],
   "source": []
  }
 ],
 "metadata": {
  "kernelspec": {
   "display_name": "Python 3 (ipykernel)",
   "language": "python",
   "name": "python3"
  },
  "language_info": {
   "codemirror_mode": {
    "name": "ipython",
    "version": 3
   },
   "file_extension": ".py",
   "mimetype": "text/x-python",
   "name": "python",
   "nbconvert_exporter": "python",
   "pygments_lexer": "ipython3",
   "version": "3.7.10"
  }
 },
 "nbformat": 4,
 "nbformat_minor": 5
}
